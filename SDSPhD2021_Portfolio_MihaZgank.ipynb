{
  "nbformat": 4,
  "nbformat_minor": 0,
  "metadata": {
    "colab": {
      "name": "3_Portfolio_MihaZgank_SDSPhD2021.ipynb",
      "provenance": [],
      "collapsed_sections": [
        "Zhy3g7K8DZ3r",
        "-kjxsTAFWote"
      ],
      "mount_file_id": "1GG5eXIDCqkb_7hNXfC31am34huI2o9a0",
      "authorship_tag": "ABX9TyNFEjTNzOLdcU5d57oOR0m2",
      "include_colab_link": true
    },
    "kernelspec": {
      "name": "python3",
      "display_name": "Python 3"
    },
    "language_info": {
      "name": "python"
    }
  },
  "cells": [
    {
      "cell_type": "markdown",
      "metadata": {
        "id": "view-in-github",
        "colab_type": "text"
      },
      "source": [
        "<a href=\"https://colab.research.google.com/github/ZgankMiha/Spsd21_Portfolio_MZ/blob/main/SDSPhD2021_Portfolio_MihaZgank.ipynb\" target=\"_parent\"><img src=\"https://colab.research.google.com/assets/colab-badge.svg\" alt=\"Open In Colab\"/></a>"
      ]
    },
    {
      "cell_type": "markdown",
      "metadata": {
        "id": "Zhy3g7K8DZ3r"
      },
      "source": [
        "#<strong>Portfolio exercise 1 - unsupervised ML - clustering</strong>\n",
        "Monday, 2021-11-22"
      ]
    },
    {
      "cell_type": "markdown",
      "metadata": {
        "id": "_V2Oq_6rdsCZ"
      },
      "source": [
        "Packages for machine learning:\n",
        "Scikit-learn: https://scikit-learn.org/stable/"
      ]
    },
    {
      "cell_type": "markdown",
      "metadata": {
        "id": "XpO59JDqFWWM"
      },
      "source": [
        "Clustering is an unsupervised learning problem, it allows identifying natural grouping in data. It allows discovery of degrees of similarity between individual objects being clustered.\n"
      ]
    },
    {
      "cell_type": "markdown",
      "metadata": {
        "id": "KmNxXcZ4M4im"
      },
      "source": [
        "Imported packages:"
      ]
    },
    {
      "cell_type": "code",
      "metadata": {
        "id": "GP26_S7IDZMD"
      },
      "source": [
        "import pandas as pd                                     #pandas\n",
        "import numpy as np                                      #numpy\n",
        "from matplotlib import pyplot as plt                    #matplotlib\n",
        "from sklearn.cluster import AgglomerativeClustering     #Scikit-learn\n",
        "from scipy.cluster.hierarchy import dendrogram, linkage #Scipy\n",
        "from sklearn import metrics                             #Scikit-learn \n",
        "from sklearn.metrics import davies_bouldin_score        #Scikit-learn "
      ],
      "execution_count": 1,
      "outputs": []
    },
    {
      "cell_type": "markdown",
      "metadata": {
        "id": "VoZfwG2LM2DV"
      },
      "source": [
        ""
      ]
    },
    {
      "cell_type": "code",
      "metadata": {
        "colab": {
          "base_uri": "https://localhost:8080/"
        },
        "id": "sMdR2Oy2M1yh",
        "outputId": "64c393a8-205b-4e9e-8bb2-22054c581af2"
      },
      "source": [
        "!wget https://raw.githubusercontent.com/CALDISS-AAU/sdsphd21/master/datasets/value99.csv"
      ],
      "execution_count": 2,
      "outputs": [
        {
          "output_type": "stream",
          "name": "stdout",
          "text": [
            "--2021-12-07 10:52:26--  https://raw.githubusercontent.com/CALDISS-AAU/sdsphd21/master/datasets/value99.csv\n",
            "Resolving raw.githubusercontent.com (raw.githubusercontent.com)... 185.199.111.133, 185.199.110.133, 185.199.109.133, ...\n",
            "Connecting to raw.githubusercontent.com (raw.githubusercontent.com)|185.199.111.133|:443... connected.\n",
            "HTTP request sent, awaiting response... 200 OK\n",
            "Length: 187653 (183K) [text/plain]\n",
            "Saving to: ‘value99.csv’\n",
            "\n",
            "value99.csv         100%[===================>] 183.25K  --.-KB/s    in 0.03s   \n",
            "\n",
            "2021-12-07 10:52:27 (6.00 MB/s) - ‘value99.csv’ saved [187653/187653]\n",
            "\n"
          ]
        }
      ]
    },
    {
      "cell_type": "code",
      "metadata": {
        "colab": {
          "base_uri": "https://localhost:8080/",
          "height": 206
        },
        "id": "M6FwtF6KKJlm",
        "outputId": "2ee02dd9-4dcc-4436-bfdf-7b58b585dc7a"
      },
      "source": [
        "val99 = pd.read_csv('value99.csv')\n",
        "val99 = val99.replace('\\.+', np.nan, regex=True)\n",
        "val99.dropna(inplace=True)\n",
        "\n",
        "val99.head(10)\n",
        "\n",
        "val_set = val99.loc[:,'v7':'v61']\n",
        "val_set.head()\n",
        "\n",
        "#importance = {'v56':'arbejde','v57':'familie','v58':'venener','v59':'fritid', 'v60':'politik', 'v61':religion'}"
      ],
      "execution_count": 3,
      "outputs": [
        {
          "output_type": "execute_result",
          "data": {
            "text/html": [
              "<div>\n",
              "<style scoped>\n",
              "    .dataframe tbody tr th:only-of-type {\n",
              "        vertical-align: middle;\n",
              "    }\n",
              "\n",
              "    .dataframe tbody tr th {\n",
              "        vertical-align: top;\n",
              "    }\n",
              "\n",
              "    .dataframe thead th {\n",
              "        text-align: right;\n",
              "    }\n",
              "</style>\n",
              "<table border=\"1\" class=\"dataframe\">\n",
              "  <thead>\n",
              "    <tr style=\"text-align: right;\">\n",
              "      <th></th>\n",
              "      <th>v7</th>\n",
              "      <th>v9</th>\n",
              "      <th>v10</th>\n",
              "      <th>v14</th>\n",
              "      <th>v56</th>\n",
              "      <th>v57</th>\n",
              "      <th>v58</th>\n",
              "      <th>v59</th>\n",
              "      <th>v60</th>\n",
              "      <th>v61</th>\n",
              "    </tr>\n",
              "  </thead>\n",
              "  <tbody>\n",
              "    <tr>\n",
              "      <th>1</th>\n",
              "      <td>1</td>\n",
              "      <td>1</td>\n",
              "      <td>2</td>\n",
              "      <td>0</td>\n",
              "      <td>1</td>\n",
              "      <td>1</td>\n",
              "      <td>2</td>\n",
              "      <td>2</td>\n",
              "      <td>1</td>\n",
              "      <td>1</td>\n",
              "    </tr>\n",
              "    <tr>\n",
              "      <th>2</th>\n",
              "      <td>1</td>\n",
              "      <td>1</td>\n",
              "      <td>2</td>\n",
              "      <td>0</td>\n",
              "      <td>1</td>\n",
              "      <td>1</td>\n",
              "      <td>1</td>\n",
              "      <td>1</td>\n",
              "      <td>1</td>\n",
              "      <td>2</td>\n",
              "    </tr>\n",
              "    <tr>\n",
              "      <th>7</th>\n",
              "      <td>1</td>\n",
              "      <td>1</td>\n",
              "      <td>2</td>\n",
              "      <td>0</td>\n",
              "      <td>1</td>\n",
              "      <td>1</td>\n",
              "      <td>2</td>\n",
              "      <td>1</td>\n",
              "      <td>3</td>\n",
              "      <td>4</td>\n",
              "    </tr>\n",
              "    <tr>\n",
              "      <th>9</th>\n",
              "      <td>1</td>\n",
              "      <td>1</td>\n",
              "      <td>1</td>\n",
              "      <td>1</td>\n",
              "      <td>1</td>\n",
              "      <td>1</td>\n",
              "      <td>1</td>\n",
              "      <td>2</td>\n",
              "      <td>2</td>\n",
              "      <td>3</td>\n",
              "    </tr>\n",
              "    <tr>\n",
              "      <th>10</th>\n",
              "      <td>1</td>\n",
              "      <td>1</td>\n",
              "      <td>2</td>\n",
              "      <td>0</td>\n",
              "      <td>1</td>\n",
              "      <td>2</td>\n",
              "      <td>2</td>\n",
              "      <td>3</td>\n",
              "      <td>1</td>\n",
              "      <td>4</td>\n",
              "    </tr>\n",
              "  </tbody>\n",
              "</table>\n",
              "</div>"
            ],
            "text/plain": [
              "    v7  v9 v10  v14 v56 v57 v58 v59 v60 v61\n",
              "1    1   1   2    0   1   1   2   2   1   1\n",
              "2    1   1   2    0   1   1   1   1   1   2\n",
              "7    1   1   2    0   1   1   2   1   3   4\n",
              "9    1   1   1    1   1   1   1   2   2   3\n",
              "10   1   1   2    0   1   2   2   3   1   4"
            ]
          },
          "metadata": {},
          "execution_count": 3
        }
      ]
    },
    {
      "cell_type": "code",
      "metadata": {
        "id": "tcLkJm-JXZyk"
      },
      "source": [
        "X = val_set.loc[:, 'v57':'v61']\n",
        "X_1 = val_set.loc[:, 'v57':'v61']\n",
        "\n",
        "\n",
        "not_cluster_set=val_set.loc[:,'v7':'v14']\n",
        "linked = linkage(X, 'ward')\n"
      ],
      "execution_count": 4,
      "outputs": []
    },
    {
      "cell_type": "code",
      "metadata": {
        "id": "2ThlzgvVL2t1",
        "colab": {
          "base_uri": "https://localhost:8080/",
          "height": 523
        },
        "outputId": "f55ccc7a-ae5a-4d55-e410-d3e59b813fc6"
      },
      "source": [
        "figure = plt.figure(figsize=(10, 8))\n",
        "dendrogram(\n",
        "    linked,\n",
        "    truncate_mode='lastp',\n",
        "    p=10,\n",
        "    leaf_rotation=90.,\n",
        "    leaf_font_size=10.,\n",
        "    show_contracted=True,\n",
        ")\n",
        "plt.title('Hierarchical Clustering Dendrogram (Ward)')\n",
        "plt.xlabel('Cluster size')\n",
        "plt.ylabel('Distance')\n",
        "plt.show()"
      ],
      "execution_count": 5,
      "outputs": [
        {
          "output_type": "display_data",
          "data": {
            "image/png": "[encoded data removed]",
            "text/plain": [
              "<Figure size 720x576 with 1 Axes>"
            ]
          },
          "metadata": {
            "needs_background": "light"
          }
        }
      ]
    },
    {
      "cell_type": "code",
      "metadata": {
        "id": "frOWTsq-MSiI",
        "colab": {
          "base_uri": "https://localhost:8080/"
        },
        "outputId": "f6b845fd-3850-454d-bb60-2bf944aa9b6e"
      },
      "source": [
        "for k in range(2,11):\n",
        "    cluster = AgglomerativeClustering(n_clusters=k, affinity='euclidean', linkage='ward').fit(X)\n",
        "    labels=cluster.labels_\n",
        "    dbs=davies_bouldin_score(X, labels)\n",
        "    dbs=round(dbs,2)\n",
        "    ch = metrics.calinski_harabasz_score(X, labels)\n",
        "    ch=round(ch,2)\n",
        "    ss=metrics.silhouette_score(X, labels, metric='euclidean')\n",
        "    ss=round(ss,2)\n",
        "    print(\"Cluster count-\", k, \"|\", \" db score-\", dbs, \"|\", \" ch score - \", ch, \"|\", \" ss score - \", ss)\n",
        "    k=str(k)\n",
        "    val_set['cluster'+k] = labels"
      ],
      "execution_count": 6,
      "outputs": [
        {
          "output_type": "stream",
          "name": "stdout",
          "text": [
            "Cluster count- 2 |  db score- 1.8 |  ch score -  79.93 |  ss score -  0.21\n",
            "Cluster count- 3 |  db score- 1.5 |  ch score -  84.67 |  ss score -  0.23\n",
            "Cluster count- 4 |  db score- 1.52 |  ch score -  76.8 |  ss score -  0.22\n",
            "Cluster count- 5 |  db score- 1.52 |  ch score -  70.46 |  ss score -  0.23\n",
            "Cluster count- 6 |  db score- 1.48 |  ch score -  68.59 |  ss score -  0.24\n",
            "Cluster count- 7 |  db score- 1.41 |  ch score -  66.83 |  ss score -  0.26\n",
            "Cluster count- 8 |  db score- 1.43 |  ch score -  63.19 |  ss score -  0.27\n",
            "Cluster count- 9 |  db score- 1.37 |  ch score -  60.66 |  ss score -  0.27\n",
            "Cluster count- 10 |  db score- 1.36 |  ch score -  58.82 |  ss score -  0.28\n"
          ]
        }
      ]
    },
    {
      "cell_type": "markdown",
      "metadata": {
        "id": "-m9TidA9NAu2"
      },
      "source": [
        "**note:**\n",
        "\n",
        "Davies Bouldin Score (db) → as low as possible\n",
        "\n",
        "Calinski-Harabasz (ch) → as high as possible\n",
        "\n",
        "Silhouette-score (ss) → is a -1 to +1 thing. 0 is bad while values closer to the edges are better."
      ]
    },
    {
      "cell_type": "code",
      "metadata": {
        "id": "Z8kth_-0eNBW"
      },
      "source": [
        "X_1=val_set[['cluster','v7',\t'v9','v10','v14','v56','v57','v58','v59','v60','v61']]\n",
        "X_1.head()"
      ],
      "execution_count": null,
      "outputs": []
    },
    {
      "cell_type": "code",
      "metadata": {
        "id": "ne1uZ2EpepDC",
        "colab": {
          "base_uri": "https://localhost:8080/",
          "height": 381
        },
        "outputId": "90312deb-c064-420b-b93f-27751622e2b4"
      },
      "source": [
        "stuff=X_1.groupby(['cluster']).mean()\n",
        "trans_stuff=stuff.T\n",
        "ts=round(trans_stuff,2)\n",
        "print(ts)\n",
        "count=val_set.groupby(['cluster'])['v7'].count()\n",
        "print(count)\n",
        "figure = plt.figure(figsize=(7.5, 5))\n",
        "dendrogram(\n",
        "        linked,\n",
        "        truncate_mode='lastp',  # show only the last p merged clusters\n",
        "        p=2,  # show only the last p merged clusters\n",
        "        leaf_rotation=90.,\n",
        "        leaf_font_size=12.,\n",
        "        show_contracted=True,  # to get a distribution impression in truncated branches\n",
        "    )\n",
        "plt.title('Hierarchical Clustering Dendrogram (Ward)')\n",
        "plt.xlabel('sample index or (cluster size)')\n",
        "plt.ylabel('distance')\n",
        "plt.show()"
      ],
      "execution_count": 9,
      "outputs": [
        {
          "output_type": "error",
          "ename": "KeyError",
          "evalue": "ignored",
          "traceback": [
            "\u001b[0;31m---------------------------------------------------------------------------\u001b[0m",
            "\u001b[0;31mKeyError\u001b[0m                                  Traceback (most recent call last)",
            "\u001b[0;32m<ipython-input-9-47ac33442118>\u001b[0m in \u001b[0;36m<module>\u001b[0;34m()\u001b[0m\n\u001b[0;32m----> 1\u001b[0;31m \u001b[0mstuff\u001b[0m\u001b[0;34m=\u001b[0m\u001b[0mX_1\u001b[0m\u001b[0;34m.\u001b[0m\u001b[0mgroupby\u001b[0m\u001b[0;34m(\u001b[0m\u001b[0;34m[\u001b[0m\u001b[0;34m'cluster'\u001b[0m\u001b[0;34m]\u001b[0m\u001b[0;34m)\u001b[0m\u001b[0;34m.\u001b[0m\u001b[0mmean\u001b[0m\u001b[0;34m(\u001b[0m\u001b[0;34m)\u001b[0m\u001b[0;34m\u001b[0m\u001b[0;34m\u001b[0m\u001b[0m\n\u001b[0m\u001b[1;32m      2\u001b[0m \u001b[0mtrans_stuff\u001b[0m\u001b[0;34m=\u001b[0m\u001b[0mstuff\u001b[0m\u001b[0;34m.\u001b[0m\u001b[0mT\u001b[0m\u001b[0;34m\u001b[0m\u001b[0;34m\u001b[0m\u001b[0m\n\u001b[1;32m      3\u001b[0m \u001b[0mts\u001b[0m\u001b[0;34m=\u001b[0m\u001b[0mround\u001b[0m\u001b[0;34m(\u001b[0m\u001b[0mtrans_stuff\u001b[0m\u001b[0;34m,\u001b[0m\u001b[0;36m2\u001b[0m\u001b[0;34m)\u001b[0m\u001b[0;34m\u001b[0m\u001b[0;34m\u001b[0m\u001b[0m\n\u001b[1;32m      4\u001b[0m \u001b[0mprint\u001b[0m\u001b[0;34m(\u001b[0m\u001b[0mts\u001b[0m\u001b[0;34m)\u001b[0m\u001b[0;34m\u001b[0m\u001b[0;34m\u001b[0m\u001b[0m\n\u001b[1;32m      5\u001b[0m \u001b[0mcount\u001b[0m\u001b[0;34m=\u001b[0m\u001b[0mval_set\u001b[0m\u001b[0;34m.\u001b[0m\u001b[0mgroupby\u001b[0m\u001b[0;34m(\u001b[0m\u001b[0;34m[\u001b[0m\u001b[0;34m'cluster'\u001b[0m\u001b[0;34m]\u001b[0m\u001b[0;34m)\u001b[0m\u001b[0;34m[\u001b[0m\u001b[0;34m'v7'\u001b[0m\u001b[0;34m]\u001b[0m\u001b[0;34m.\u001b[0m\u001b[0mcount\u001b[0m\u001b[0;34m(\u001b[0m\u001b[0;34m)\u001b[0m\u001b[0;34m\u001b[0m\u001b[0;34m\u001b[0m\u001b[0m\n",
            "\u001b[0;32m/usr/local/lib/python3.7/dist-packages/pandas/core/frame.py\u001b[0m in \u001b[0;36mgroupby\u001b[0;34m(self, by, axis, level, as_index, sort, group_keys, squeeze, observed, dropna)\u001b[0m\n\u001b[1;32m   6523\u001b[0m             \u001b[0msqueeze\u001b[0m\u001b[0;34m=\u001b[0m\u001b[0msqueeze\u001b[0m\u001b[0;34m,\u001b[0m\u001b[0;34m\u001b[0m\u001b[0;34m\u001b[0m\u001b[0m\n\u001b[1;32m   6524\u001b[0m             \u001b[0mobserved\u001b[0m\u001b[0;34m=\u001b[0m\u001b[0mobserved\u001b[0m\u001b[0;34m,\u001b[0m\u001b[0;34m\u001b[0m\u001b[0;34m\u001b[0m\u001b[0m\n\u001b[0;32m-> 6525\u001b[0;31m             \u001b[0mdropna\u001b[0m\u001b[0;34m=\u001b[0m\u001b[0mdropna\u001b[0m\u001b[0;34m,\u001b[0m\u001b[0;34m\u001b[0m\u001b[0;34m\u001b[0m\u001b[0m\n\u001b[0m\u001b[1;32m   6526\u001b[0m         )\n\u001b[1;32m   6527\u001b[0m \u001b[0;34m\u001b[0m\u001b[0m\n",
            "\u001b[0;32m/usr/local/lib/python3.7/dist-packages/pandas/core/groupby/groupby.py\u001b[0m in \u001b[0;36m__init__\u001b[0;34m(self, obj, keys, axis, level, grouper, exclusions, selection, as_index, sort, group_keys, squeeze, observed, mutated, dropna)\u001b[0m\n\u001b[1;32m    531\u001b[0m                 \u001b[0mobserved\u001b[0m\u001b[0;34m=\u001b[0m\u001b[0mobserved\u001b[0m\u001b[0;34m,\u001b[0m\u001b[0;34m\u001b[0m\u001b[0;34m\u001b[0m\u001b[0m\n\u001b[1;32m    532\u001b[0m                 \u001b[0mmutated\u001b[0m\u001b[0;34m=\u001b[0m\u001b[0mself\u001b[0m\u001b[0;34m.\u001b[0m\u001b[0mmutated\u001b[0m\u001b[0;34m,\u001b[0m\u001b[0;34m\u001b[0m\u001b[0;34m\u001b[0m\u001b[0m\n\u001b[0;32m--> 533\u001b[0;31m                 \u001b[0mdropna\u001b[0m\u001b[0;34m=\u001b[0m\u001b[0mself\u001b[0m\u001b[0;34m.\u001b[0m\u001b[0mdropna\u001b[0m\u001b[0;34m,\u001b[0m\u001b[0;34m\u001b[0m\u001b[0;34m\u001b[0m\u001b[0m\n\u001b[0m\u001b[1;32m    534\u001b[0m             )\n\u001b[1;32m    535\u001b[0m \u001b[0;34m\u001b[0m\u001b[0m\n",
            "\u001b[0;32m/usr/local/lib/python3.7/dist-packages/pandas/core/groupby/grouper.py\u001b[0m in \u001b[0;36mget_grouper\u001b[0;34m(obj, key, axis, level, sort, observed, mutated, validate, dropna)\u001b[0m\n\u001b[1;32m    784\u001b[0m                 \u001b[0min_axis\u001b[0m\u001b[0;34m,\u001b[0m \u001b[0mname\u001b[0m\u001b[0;34m,\u001b[0m \u001b[0mlevel\u001b[0m\u001b[0;34m,\u001b[0m \u001b[0mgpr\u001b[0m \u001b[0;34m=\u001b[0m \u001b[0;32mFalse\u001b[0m\u001b[0;34m,\u001b[0m \u001b[0;32mNone\u001b[0m\u001b[0;34m,\u001b[0m \u001b[0mgpr\u001b[0m\u001b[0;34m,\u001b[0m \u001b[0;32mNone\u001b[0m\u001b[0;34m\u001b[0m\u001b[0;34m\u001b[0m\u001b[0m\n\u001b[1;32m    785\u001b[0m             \u001b[0;32melse\u001b[0m\u001b[0;34m:\u001b[0m\u001b[0;34m\u001b[0m\u001b[0;34m\u001b[0m\u001b[0m\n\u001b[0;32m--> 786\u001b[0;31m                 \u001b[0;32mraise\u001b[0m \u001b[0mKeyError\u001b[0m\u001b[0;34m(\u001b[0m\u001b[0mgpr\u001b[0m\u001b[0;34m)\u001b[0m\u001b[0;34m\u001b[0m\u001b[0;34m\u001b[0m\u001b[0m\n\u001b[0m\u001b[1;32m    787\u001b[0m         \u001b[0;32melif\u001b[0m \u001b[0misinstance\u001b[0m\u001b[0;34m(\u001b[0m\u001b[0mgpr\u001b[0m\u001b[0;34m,\u001b[0m \u001b[0mGrouper\u001b[0m\u001b[0;34m)\u001b[0m \u001b[0;32mand\u001b[0m \u001b[0mgpr\u001b[0m\u001b[0;34m.\u001b[0m\u001b[0mkey\u001b[0m \u001b[0;32mis\u001b[0m \u001b[0;32mnot\u001b[0m \u001b[0;32mNone\u001b[0m\u001b[0;34m:\u001b[0m\u001b[0;34m\u001b[0m\u001b[0;34m\u001b[0m\u001b[0m\n\u001b[1;32m    788\u001b[0m             \u001b[0;31m# Add key to exclusions\u001b[0m\u001b[0;34m\u001b[0m\u001b[0;34m\u001b[0m\u001b[0;34m\u001b[0m\u001b[0m\n",
            "\u001b[0;31mKeyError\u001b[0m: 'cluster'"
          ]
        }
      ]
    },
    {
      "cell_type": "markdown",
      "metadata": {
        "id": "bzNJr9qiVTib"
      },
      "source": [
        "# <strong>Portfolio exercise 2 - supervised ML - categorisation and regression</strong>\n",
        "Tuesday, 2021-11-23"
      ]
    },
    {
      "cell_type": "code",
      "metadata": {
        "id": "0qb3W_dsO4si"
      },
      "source": [
        "import numpy as np\n",
        "import pandas as pd\n",
        "import seaborn as sns\n",
        "import statsmodels.api as sm\n",
        "import matplotlib.pyplot as plt\n",
        "\n",
        "from sklearn import metrics\n",
        "from sklearn.preprocessing import StandardScaler\n",
        "from sklearn.preprocessing import LabelEncoder\n",
        "from sklearn.model_selection import train_test_split\n",
        "from sklearn.model_selection import GridSearchCV\n",
        "from sklearn.linear_model import LogisticRegression\n",
        "from sklearn.linear_model import LinearRegression, ElasticNet\n",
        "from sklearn.ensemble import RandomForestRegressor\n",
        "from sklearn.metrics import classification_report\n",
        "from sklearn.metrics import confusion_matrix\n",
        "from sklearn.metrics import make_scorer \n",
        "from sklearn.metrics import mean_squared_error \n",
        "from sklearn.metrics import r2_score\n",
        "from mlxtend.plotting import plot_confusion_matrix\n",
        "from xgboost import XGBRegressor\n",
        "\n",
        "sns.set(style=\"darkgrid\", color_codes=True)"
      ],
      "execution_count": null,
      "outputs": []
    },
    {
      "cell_type": "code",
      "metadata": {
        "id": "cyRhTkP4Mrzp"
      },
      "source": [
        "turnover = pd.read_csv('https://raw.githubusercontent.com/CALDISS-AAU/sdsphd21/master/datasets/turnover.csv')\n",
        "turnover.head()"
      ],
      "execution_count": null,
      "outputs": []
    },
    {
      "cell_type": "code",
      "metadata": {
        "id": "cZEhZUH3NqmT"
      },
      "source": [
        "turn = pd.get_dummies(turnover)"
      ],
      "execution_count": null,
      "outputs": []
    },
    {
      "cell_type": "code",
      "metadata": {
        "id": "2vMuiC0TO6X7"
      },
      "source": [
        "turn.describe()"
      ],
      "execution_count": null,
      "outputs": []
    },
    {
      "cell_type": "code",
      "metadata": {
        "id": "As7FfudmSVs-"
      },
      "source": [
        "corr = turn.corr()\n",
        "cmap = sns.diverging_palette(220, 20, as_cmap=True)\n",
        "mask = np.triu(np.ones_like(corr, dtype=bool))\n",
        "sns.heatmap(corr,mask=mask, cmap=cmap)"
      ],
      "execution_count": null,
      "outputs": []
    },
    {
      "cell_type": "markdown",
      "metadata": {
        "id": "7PDTXkn300g6"
      },
      "source": [
        "Checking how well the model predicted the `churn`"
      ]
    },
    {
      "cell_type": "markdown",
      "metadata": {
        "id": "mvEfQHwfiHwu"
      },
      "source": [
        "Predicting `churn` using a classification pipeline"
      ]
    },
    {
      "cell_type": "code",
      "metadata": {
        "id": "smCE8WeJhEiD"
      },
      "source": [
        "X = turn.loc[:, turn.columns!='churn']\n",
        "scaler = StandardScaler()\n",
        "X = scaler.fit_transform(X)\n"
      ],
      "execution_count": null,
      "outputs": []
    },
    {
      "cell_type": "code",
      "metadata": {
        "id": "zzTHZs5EjMvF"
      },
      "source": [
        "y = turn.iloc[:, 6]\n",
        "labelencoder_y = LabelEncoder()\n",
        "y = labelencoder_y.fit_transform(y)"
      ],
      "execution_count": null,
      "outputs": []
    },
    {
      "cell_type": "code",
      "metadata": {
        "id": "uKGTYLeTkRfT"
      },
      "source": [
        "X_train, X_test, y_train, y_test = train_test_split(X, y, test_size = 0.2, random_state = 21)"
      ],
      "execution_count": null,
      "outputs": []
    },
    {
      "cell_type": "code",
      "metadata": {
        "id": "b2_sTPpIkfq5"
      },
      "source": [
        "model = LogisticRegression()\n",
        "model.fit(X_train, y_train)"
      ],
      "execution_count": null,
      "outputs": []
    },
    {
      "cell_type": "code",
      "metadata": {
        "id": "h5G2zd3Oz89C"
      },
      "source": [
        "model.score(X_test, y_test)"
      ],
      "execution_count": null,
      "outputs": []
    },
    {
      "cell_type": "code",
      "metadata": {
        "id": "-PRHhyAQ0zzN"
      },
      "source": [
        "true_churn = labelencoder_y.inverse_transform(y_test)\n",
        "predicted_churn = labelencoder_y.inverse_transform(model.predict(X_test))"
      ],
      "execution_count": null,
      "outputs": []
    },
    {
      "cell_type": "code",
      "metadata": {
        "id": "bnw7lFAo1I8k"
      },
      "source": [
        "df = pd.DataFrame({'true_churn': true_churn, 'predicted_churn': predicted_churn}) \n",
        "\n",
        "pd.crosstab(df.true_churn, df.predicted_churn)"
      ],
      "execution_count": null,
      "outputs": []
    },
    {
      "cell_type": "code",
      "metadata": {
        "id": "6JGwrCnl11hc"
      },
      "source": [
        "print(classification_report(true_churn,predicted_churn, labels=labelencoder_y.classes_))"
      ],
      "execution_count": null,
      "outputs": []
    },
    {
      "cell_type": "code",
      "metadata": {
        "id": "GDvMOT-O2hLl"
      },
      "source": [
        "y_pred=model.predict(X_test)\n",
        "cnf_matrix = metrics.confusion_matrix(y_test, y_pred)\n",
        "cnf_matrix"
      ],
      "execution_count": null,
      "outputs": []
    },
    {
      "cell_type": "code",
      "metadata": {
        "id": "NKv_aVO27x4J"
      },
      "source": [
        "class_names=[0,1]\n",
        "fig, ax = plt.subplots()\n",
        "tick_marks = np.arange(len(class_names))\n",
        "plt.xticks(tick_marks, class_names)\n",
        "plt.yticks(tick_marks, class_names)\n",
        "\n",
        "sns.heatmap(pd.DataFrame(cnf_matrix),annot=True,cmap=\"Blues\",fmt='g')\n",
        "ax.xaxis.set_label_position(\"top\")\n",
        "plt.tight_layout()\n",
        "plt.title('Confusion matrix', y=1.1)\n",
        "plt.ylabel('Actual label')\n",
        "plt.xlabel('Predicted label')"
      ],
      "execution_count": null,
      "outputs": []
    },
    {
      "cell_type": "markdown",
      "metadata": {
        "id": "Pi4vLBgri9Ju"
      },
      "source": [
        "Regression - Predicting the number of weekly average hours worked"
      ]
    },
    {
      "cell_type": "code",
      "metadata": {
        "id": "TD4-dHwBkiq0"
      },
      "source": [
        "turn['average_weekly_hours'] = turn['average_montly_hours'] / 4.345\n",
        "turn.head()"
      ],
      "execution_count": null,
      "outputs": []
    },
    {
      "cell_type": "code",
      "metadata": {
        "id": "Zhl-p3lCkghh"
      },
      "source": [
        "y = turn['average_weekly_hours']"
      ],
      "execution_count": null,
      "outputs": []
    },
    {
      "cell_type": "code",
      "metadata": {
        "id": "1eGDx8O8kidZ"
      },
      "source": [
        "# X = turn[['satisfaction', 'evaluation',\t'number_of_projects', 'satisfaction',\t'number_of_projects']]\n",
        "# X.head()"
      ],
      "execution_count": null,
      "outputs": []
    },
    {
      "cell_type": "code",
      "metadata": {
        "id": "MOmlwwrGspFK"
      },
      "source": [
        "X = pd.concat([turn.iloc[:,:3],turn.iloc[:,4]],axis=1)\n",
        "X.head()"
      ],
      "execution_count": null,
      "outputs": []
    },
    {
      "cell_type": "code",
      "metadata": {
        "id": "rclPafUvsEQh"
      },
      "source": [
        "X = StandardScaler().fit_transform(X)"
      ],
      "execution_count": null,
      "outputs": []
    },
    {
      "cell_type": "code",
      "metadata": {
        "id": "Z6AqbeWWvQSh"
      },
      "source": [
        "\n",
        "X_train, X_test, y_train, y_test = train_test_split(X, y, test_size = 0.2, random_state = 21)"
      ],
      "execution_count": null,
      "outputs": []
    },
    {
      "cell_type": "code",
      "metadata": {
        "id": "4foNLiucvaXN"
      },
      "source": [
        "model_ols = LinearRegression()\n",
        "model_el = ElasticNet()\n",
        "model_rf = RandomForestRegressor()\n",
        "model_xgb = XGBRegressor()"
      ],
      "execution_count": null,
      "outputs": []
    },
    {
      "cell_type": "code",
      "metadata": {
        "id": "2q5OFdVevdMB"
      },
      "source": [
        "model_ols.fit(X_train, y_train)\n",
        "model_el.fit(X_train, y_train)\n",
        "model_rf.fit(X_train, y_train)\n",
        "model_xgb.fit(X_train, y_train)"
      ],
      "execution_count": null,
      "outputs": []
    },
    {
      "cell_type": "code",
      "metadata": {
        "id": "jz_TZNibwGIn"
      },
      "source": [
        "print('Model OLS' + ' ' + str(model_ols.score(X_test, y_test)))\n",
        "print('Model EL' + ' ' + str(model_el.score(X_test, y_test)))\n",
        "print('Model RF' + ' ' + str(model_rf.score(X_test, y_test)))\n",
        "print('Model XGB' + ' ' + str(model_xgb.score(X_test, y_test)))"
      ],
      "execution_count": null,
      "outputs": []
    },
    {
      "cell_type": "code",
      "metadata": {
        "id": "5S8XE0OTwzq5"
      },
      "source": [
        "print('Model OLS' + ' ' + str(model_ols.score(X_train, y_train)))\n",
        "print('Model EL' + ' ' + str(model_el.score(X_train, y_train)))\n",
        "print('Model RF' + ' ' + str(model_rf.score(X_train, y_train)))\n",
        "print('Model XGB' + ' ' + str(model_xgb.score(X_train, y_train)))"
      ],
      "execution_count": null,
      "outputs": []
    },
    {
      "cell_type": "code",
      "metadata": {
        "id": "Yb_aDglkw9Mg"
      },
      "source": [
        "y_pred_ols = model_ols.predict(X_test)\n",
        "y_pred_el = model_el.predict(X_test)\n",
        "y_pred_rf = model_rf.predict(X_test)\n",
        "y_pred_xgb = model_xgb.predict(X_test)"
      ],
      "execution_count": null,
      "outputs": []
    },
    {
      "cell_type": "code",
      "metadata": {
        "id": "z0ISqStaxDSv"
      },
      "source": [
        "sns.scatterplot(y_test, y_pred_ols)"
      ],
      "execution_count": null,
      "outputs": []
    },
    {
      "cell_type": "code",
      "metadata": {
        "id": "XQDhtaaI0a64"
      },
      "source": [
        "sns.scatterplot(y_test, y_pred_el)"
      ],
      "execution_count": null,
      "outputs": []
    },
    {
      "cell_type": "code",
      "metadata": {
        "id": "sjqw-liD0azd"
      },
      "source": [
        "sns.scatterplot(y_test, y_pred_rf)"
      ],
      "execution_count": null,
      "outputs": []
    },
    {
      "cell_type": "code",
      "metadata": {
        "id": "7RSXv1XL0anD"
      },
      "source": [
        "sns.scatterplot(y_test, y_pred_xgb)"
      ],
      "execution_count": null,
      "outputs": []
    },
    {
      "cell_type": "markdown",
      "metadata": {
        "id": "GML8-kDWwEER"
      },
      "source": [
        "#**Portfolio exercise 3 - Geodata**\n",
        "Wednesday, 2021-11-24"
      ]
    },
    {
      "cell_type": "code",
      "metadata": {
        "id": "wjHu6sbjwVvi",
        "colab": {
          "base_uri": "https://localhost:8080/"
        },
        "outputId": "15e44d33-a5b7-47dd-b98c-661acf20cacc"
      },
      "source": [
        "!pip install geopandas # geopandas is not installed by default on Colab - this installs it\n",
        "!pip install contextily # contextily is not installed by default on Colab - this installs it\n",
        "!pip install pygeos # pygeos optional dependency for geopandas (which we will use)\n",
        "!pip install adjustText # Adjusting text in maps"
      ],
      "execution_count": 49,
      "outputs": [
        {
          "output_type": "stream",
          "name": "stdout",
          "text": [
            "Requirement already satisfied: geopandas in /usr/local/lib/python3.7/dist-packages (0.10.2)\n",
            "Requirement already satisfied: shapely>=1.6 in /usr/local/lib/python3.7/dist-packages (from geopandas) (1.8.0)\n",
            "Requirement already satisfied: fiona>=1.8 in /usr/local/lib/python3.7/dist-packages (from geopandas) (1.8.20)\n",
            "Requirement already satisfied: pandas>=0.25.0 in /usr/local/lib/python3.7/dist-packages (from geopandas) (1.1.5)\n",
            "Requirement already satisfied: pyproj>=2.2.0 in /usr/local/lib/python3.7/dist-packages (from geopandas) (3.2.1)\n",
            "Requirement already satisfied: cligj>=0.5 in /usr/local/lib/python3.7/dist-packages (from fiona>=1.8->geopandas) (0.7.2)\n",
            "Requirement already satisfied: attrs>=17 in /usr/local/lib/python3.7/dist-packages (from fiona>=1.8->geopandas) (21.2.0)\n",
            "Requirement already satisfied: setuptools in /usr/local/lib/python3.7/dist-packages (from fiona>=1.8->geopandas) (57.4.0)\n",
            "Requirement already satisfied: certifi in /usr/local/lib/python3.7/dist-packages (from fiona>=1.8->geopandas) (2021.10.8)\n",
            "Requirement already satisfied: click-plugins>=1.0 in /usr/local/lib/python3.7/dist-packages (from fiona>=1.8->geopandas) (1.1.1)\n",
            "Requirement already satisfied: munch in /usr/local/lib/python3.7/dist-packages (from fiona>=1.8->geopandas) (2.5.0)\n",
            "Requirement already satisfied: click>=4.0 in /usr/local/lib/python3.7/dist-packages (from fiona>=1.8->geopandas) (7.1.2)\n",
            "Requirement already satisfied: six>=1.7 in /usr/local/lib/python3.7/dist-packages (from fiona>=1.8->geopandas) (1.15.0)\n",
            "Requirement already satisfied: pytz>=2017.2 in /usr/local/lib/python3.7/dist-packages (from pandas>=0.25.0->geopandas) (2018.9)\n",
            "Requirement already satisfied: python-dateutil>=2.7.3 in /usr/local/lib/python3.7/dist-packages (from pandas>=0.25.0->geopandas) (2.8.2)\n",
            "Requirement already satisfied: numpy>=1.15.4 in /usr/local/lib/python3.7/dist-packages (from pandas>=0.25.0->geopandas) (1.19.5)\n",
            "Requirement already satisfied: contextily in /usr/local/lib/python3.7/dist-packages (1.2.0)\n",
            "Requirement already satisfied: joblib in /usr/local/lib/python3.7/dist-packages (from contextily) (1.1.0)\n",
            "Requirement already satisfied: xyzservices in /usr/local/lib/python3.7/dist-packages (from contextily) (2021.11.0)\n",
            "Requirement already satisfied: pillow in /usr/local/lib/python3.7/dist-packages (from contextily) (7.1.2)\n",
            "Requirement already satisfied: geopy in /usr/local/lib/python3.7/dist-packages (from contextily) (1.17.0)\n",
            "Requirement already satisfied: matplotlib in /usr/local/lib/python3.7/dist-packages (from contextily) (3.2.2)\n",
            "Requirement already satisfied: requests in /usr/local/lib/python3.7/dist-packages (from contextily) (2.23.0)\n",
            "Requirement already satisfied: mercantile in /usr/local/lib/python3.7/dist-packages (from contextily) (1.2.1)\n",
            "Requirement already satisfied: rasterio in /usr/local/lib/python3.7/dist-packages (from contextily) (1.2.10)\n",
            "Requirement already satisfied: geographiclib<2,>=1.49 in /usr/local/lib/python3.7/dist-packages (from geopy->contextily) (1.52)\n",
            "Requirement already satisfied: numpy>=1.11 in /usr/local/lib/python3.7/dist-packages (from matplotlib->contextily) (1.19.5)\n",
            "Requirement already satisfied: cycler>=0.10 in /usr/local/lib/python3.7/dist-packages (from matplotlib->contextily) (0.11.0)\n",
            "Requirement already satisfied: pyparsing!=2.0.4,!=2.1.2,!=2.1.6,>=2.0.1 in /usr/local/lib/python3.7/dist-packages (from matplotlib->contextily) (3.0.6)\n",
            "Requirement already satisfied: kiwisolver>=1.0.1 in /usr/local/lib/python3.7/dist-packages (from matplotlib->contextily) (1.3.2)\n",
            "Requirement already satisfied: python-dateutil>=2.1 in /usr/local/lib/python3.7/dist-packages (from matplotlib->contextily) (2.8.2)\n",
            "Requirement already satisfied: six>=1.5 in /usr/local/lib/python3.7/dist-packages (from python-dateutil>=2.1->matplotlib->contextily) (1.15.0)\n",
            "Requirement already satisfied: click>=3.0 in /usr/local/lib/python3.7/dist-packages (from mercantile->contextily) (7.1.2)\n",
            "Requirement already satisfied: setuptools in /usr/local/lib/python3.7/dist-packages (from rasterio->contextily) (57.4.0)\n",
            "Requirement already satisfied: attrs in /usr/local/lib/python3.7/dist-packages (from rasterio->contextily) (21.2.0)\n",
            "Requirement already satisfied: click-plugins in /usr/local/lib/python3.7/dist-packages (from rasterio->contextily) (1.1.1)\n",
            "Requirement already satisfied: affine in /usr/local/lib/python3.7/dist-packages (from rasterio->contextily) (2.3.0)\n",
            "Requirement already satisfied: snuggs>=1.4.1 in /usr/local/lib/python3.7/dist-packages (from rasterio->contextily) (1.4.7)\n",
            "Requirement already satisfied: cligj>=0.5 in /usr/local/lib/python3.7/dist-packages (from rasterio->contextily) (0.7.2)\n",
            "Requirement already satisfied: certifi in /usr/local/lib/python3.7/dist-packages (from rasterio->contextily) (2021.10.8)\n",
            "Requirement already satisfied: urllib3!=1.25.0,!=1.25.1,<1.26,>=1.21.1 in /usr/local/lib/python3.7/dist-packages (from requests->contextily) (1.24.3)\n",
            "Requirement already satisfied: idna<3,>=2.5 in /usr/local/lib/python3.7/dist-packages (from requests->contextily) (2.10)\n",
            "Requirement already satisfied: chardet<4,>=3.0.2 in /usr/local/lib/python3.7/dist-packages (from requests->contextily) (3.0.4)\n",
            "Requirement already satisfied: pygeos in /usr/local/lib/python3.7/dist-packages (0.12.0)\n",
            "Requirement already satisfied: numpy>=1.13 in /usr/local/lib/python3.7/dist-packages (from pygeos) (1.19.5)\n",
            "Requirement already satisfied: adjustText in /usr/local/lib/python3.7/dist-packages (0.7.3)\n",
            "Requirement already satisfied: numpy in /usr/local/lib/python3.7/dist-packages (from adjustText) (1.19.5)\n",
            "Requirement already satisfied: matplotlib in /usr/local/lib/python3.7/dist-packages (from adjustText) (3.2.2)\n",
            "Requirement already satisfied: kiwisolver>=1.0.1 in /usr/local/lib/python3.7/dist-packages (from matplotlib->adjustText) (1.3.2)\n",
            "Requirement already satisfied: cycler>=0.10 in /usr/local/lib/python3.7/dist-packages (from matplotlib->adjustText) (0.11.0)\n",
            "Requirement already satisfied: python-dateutil>=2.1 in /usr/local/lib/python3.7/dist-packages (from matplotlib->adjustText) (2.8.2)\n",
            "Requirement already satisfied: pyparsing!=2.0.4,!=2.1.2,!=2.1.6,>=2.0.1 in /usr/local/lib/python3.7/dist-packages (from matplotlib->adjustText) (3.0.6)\n",
            "Requirement already satisfied: six>=1.5 in /usr/local/lib/python3.7/dist-packages (from python-dateutil>=2.1->matplotlib->adjustText) (1.15.0)\n"
          ]
        }
      ]
    },
    {
      "cell_type": "code",
      "metadata": {
        "id": "je6Tg-fnwcqu",
        "colab": {
          "base_uri": "https://localhost:8080/"
        },
        "outputId": "ccca7443-1758-4524-a727-6f4e794f5f6f"
      },
      "source": [
        "!wget \"https://github.com/CALDISS-AAU/sdsphd21/raw/master/datasets/NUTS_RG_20M_2021_3035_LEVL_2.shp.zip\"\n",
        "!unzip NUTS_RG_20M_2021_3035_LEVL_2.shp.zip"
      ],
      "execution_count": null,
      "outputs": [
        {
          "output_type": "stream",
          "name": "stdout",
          "text": [
            "--2021-12-07 10:58:00--  https://github.com/CALDISS-AAU/sdsphd21/raw/master/datasets/NUTS_RG_20M_2021_3035_LEVL_2.shp.zip\n",
            "Resolving github.com (github.com)... 52.69.186.44\n",
            "Connecting to github.com (github.com)|52.69.186.44|:443... connected.\n",
            "HTTP request sent, awaiting response... 302 Found\n",
            "Location: https://raw.githubusercontent.com/CALDISS-AAU/sdsphd21/master/datasets/NUTS_RG_20M_2021_3035_LEVL_2.shp.zip [following]\n",
            "--2021-12-07 10:58:00--  https://raw.githubusercontent.com/CALDISS-AAU/sdsphd21/master/datasets/NUTS_RG_20M_2021_3035_LEVL_2.shp.zip\n",
            "Resolving raw.githubusercontent.com (raw.githubusercontent.com)... 185.199.108.133, 185.199.109.133, 185.199.110.133, ...\n",
            "Connecting to raw.githubusercontent.com (raw.githubusercontent.com)|185.199.108.133|:443... connected.\n",
            "HTTP request sent, awaiting response... 200 OK\n",
            "Length: 159016 (155K) [application/zip]\n",
            "Saving to: ‘NUTS_RG_20M_2021_3035_LEVL_2.shp.zip.1’\n",
            "\n",
            "NUTS_RG_20M_2021_30 100%[===================>] 155.29K  --.-KB/s    in 0.03s   \n",
            "\n",
            "2021-12-07 10:58:00 (5.57 MB/s) - ‘NUTS_RG_20M_2021_3035_LEVL_2.shp.zip.1’ saved [159016/159016]\n",
            "\n",
            "Archive:  NUTS_RG_20M_2021_3035_LEVL_2.shp.zip\n",
            "replace NUTS_RG_20M_2021_3035_LEVL_2.cpg? [y]es, [n]o, [A]ll, [N]one, [r]ename: "
          ]
        }
      ]
    },
    {
      "cell_type": "code",
      "metadata": {
        "id": "UQ3t6Wyxr0nG"
      },
      "source": [
        "import geopandas as gdp\n",
        "import pandas as pd\n",
        "import matplotlib.pyplot as plt\n",
        "from pyproj import Proj\n",
        "import contextily as ctx\n",
        "from geopandas import GeoDataFrame\n",
        "from shapely.geometry import Point\n",
        "import adjustText as aT"
      ],
      "execution_count": null,
      "outputs": []
    },
    {
      "cell_type": "code",
      "metadata": {
        "id": "DgTYYej57g_D"
      },
      "source": [
        "eu = gdp.read_file(\"NUTS_RG_20M_2021_3035_LEVL_2.shp\")\n",
        "eu.head()"
      ],
      "execution_count": null,
      "outputs": []
    },
    {
      "cell_type": "code",
      "metadata": {
        "id": "6iwyINMbxdcN"
      },
      "source": [
        "excl_1 = ['AL','ME','MK','RS','TR']\n",
        "excl_2 = ['FRY1','FRY2','FRY3','FRY4','FRY5','PT20','PT30','ES70','NO0B']\n",
        "\n",
        "eu = eu[~eu.CNTR_CODE.isin(excl_1)]\n",
        "eu = eu[~eu.NUTS_ID.isin(excl_2)]\n",
        "\n",
        "eu.head()"
      ],
      "execution_count": null,
      "outputs": []
    },
    {
      "cell_type": "code",
      "metadata": {
        "id": "UdPcl-k67gWk"
      },
      "source": [
        "eu.plot(cmap='bone', column='CNTR_CODE',figsize=(8,8))"
      ],
      "execution_count": null,
      "outputs": []
    },
    {
      "cell_type": "markdown",
      "metadata": {
        "id": "IJNbjQKqKWJO"
      },
      "source": [
        "Data on poverty risk by EU NUTS_2 regions\n",
        "(https://ec.europa.eu/eurostat/web/products-datasets/-/tgs00103)"
      ]
    },
    {
      "cell_type": "code",
      "metadata": {
        "id": "XI-OSd4cAAsz"
      },
      "source": [
        "risk = pd.read_excel('/content/Portfolio Data/EU_data_Poverty_Risk.xlsx')\n",
        "risk.head()"
      ],
      "execution_count": null,
      "outputs": []
    },
    {
      "cell_type": "markdown",
      "metadata": {
        "id": "zksZ3lMSKmAs"
      },
      "source": [
        "Merging the two dataframes"
      ]
    },
    {
      "cell_type": "code",
      "metadata": {
        "id": "g1qF2GokF3lo"
      },
      "source": [
        "eu_risk = eu.merge(risk, left_on='NUTS_NAME', right_on='NUTS_name', how='left', validate=\"one_to_one\")\n",
        "eu_risk.head()"
      ],
      "execution_count": null,
      "outputs": []
    },
    {
      "cell_type": "code",
      "metadata": {
        "id": "8Yq2wpHVKyO-"
      },
      "source": [
        "eu_risk.plot(column='risk', legend=\"True\", figsize=(8,8), cmap='Greys')"
      ],
      "execution_count": null,
      "outputs": []
    },
    {
      "cell_type": "markdown",
      "metadata": {
        "id": "FgYNfLc2LaRc"
      },
      "source": [
        "Quite a lot of data seems to be missing from the map. However, some concluisons can already be made. Some parts in the South and East of EU are at higher risk of poverty. For example Sicily, and parts of Romania are particularly vunerable. Next map looks at more complete data of road accident deaths by NUTS_2 regions. This data is more complete, but size of the regions seems to contribute significantly to the number of victims."
      ]
    },
    {
      "cell_type": "code",
      "metadata": {
        "id": "FJ2PUtukOTnl"
      },
      "source": [
        "road = pd.read_excel('/content/Portfolio Data/EU_data_Road_Victims.xlsx')\n",
        "road.head()"
      ],
      "execution_count": null,
      "outputs": []
    },
    {
      "cell_type": "code",
      "metadata": {
        "id": "9-gw-CziPR3a"
      },
      "source": [
        "eu_road = eu.merge(road, left_on='NUTS_ID', right_on='NUTS_co', how='left', validate=\"one_to_one\")\n",
        "eu_road.head()"
      ],
      "execution_count": null,
      "outputs": []
    },
    {
      "cell_type": "code",
      "metadata": {
        "id": "yPMfd4SePdKx"
      },
      "source": [
        "eu_road.plot(column='nbr_dead', legend=\"True\", figsize=(8,8), cmap='Reds')"
      ],
      "execution_count": null,
      "outputs": []
    },
    {
      "cell_type": "markdown",
      "metadata": {
        "id": "ZUQz_b8_P48T"
      },
      "source": [
        "Seems there are some very bad drivers in Italy, numbers support the stereotypes in this case. Adding a basemap with the road network might be more informative."
      ]
    },
    {
      "cell_type": "code",
      "metadata": {
        "id": "DRTGwLy4ZIaF"
      },
      "source": [
        "\"Introduction to Network Analysis in Python"
      ],
      "execution_count": null,
      "outputs": []
    },
    {
      "cell_type": "code",
      "metadata": {
        "id": "3jXFoMQqSIx2"
      },
      "source": [
        "eu_road = eu_road.to_crs(epsg=3857)\n",
        "\n",
        "ax = eu_road.plot(column='nbr_dead', legend=\"True\", alpha=0.6, figsize=(12,12), cmap='OrRd', edgecolor='k')\n",
        "ctx.add_basemap(ax, source=ctx.providers.OpenStreetMap.Mapnik)\n"
      ],
      "execution_count": null,
      "outputs": []
    },
    {
      "cell_type": "markdown",
      "metadata": {
        "id": "-kjxsTAFWote"
      },
      "source": [
        "#**Portfolio exercise 4 - Network Analysis in Python**\n",
        "Wednesday, 2021-11-24\n"
      ]
    },
    {
      "cell_type": "code",
      "metadata": {
        "id": "tTgx-lhiW0zO"
      },
      "source": [
        "!pip install -U bokeh\n",
        "!pip install -q holoviews"
      ],
      "execution_count": null,
      "outputs": []
    },
    {
      "cell_type": "code",
      "metadata": {
        "id": "ENQDge3qcEjF"
      },
      "source": [
        "import numpy as np\n",
        "import pandas as pd\n",
        "import matplotlib.pyplot as plt\n",
        "import seaborn as sb\n",
        "import itertools\n",
        "import networkx as nx\n",
        "import community.community_louvain as community_louvain\n",
        "\n",
        "import holoviews as hv\n",
        "from holoviews import opts\n",
        "hv.extension('bokeh')\n",
        "from bokeh.plotting import show\n",
        "\n",
        "\n",
        "# Default figure size\n",
        "defaults = dict(width=750, height=750, padding=0.1,\n",
        "                xaxis=None, yaxis=None)\n",
        "hv.opts.defaults(\n",
        "    opts.EdgePaths(**defaults), opts.Graph(**defaults), opts.Nodes(**defaults))"
      ],
      "execution_count": null,
      "outputs": []
    },
    {
      "cell_type": "markdown",
      "metadata": {
        "id": "S10G_unTc94f"
      },
      "source": [
        "The data"
      ]
    },
    {
      "cell_type": "code",
      "metadata": {
        "id": "zGuq7wKTc86A"
      },
      "source": [
        "mat_friendship = pd.read_table(\"https://www.dropbox.com/s/0saiulir3pr566k/ELfriend.dat?dl=1\", delim_whitespace=True, header=None) \n",
        "mat_advice = pd.read_table(\"https://www.dropbox.com/s/apq42n1grim23k9/ELadv.dat?dl=1\", delim_whitespace=True, header=None) \n",
        "mat_work = pd.read_table(\"https://www.dropbox.com/s/dliz0sd7or8tv01/ELwork.dat?dl=1\", delim_whitespace=True, header=None)\n",
        "\n",
        "G_friendship = nx.from_pandas_adjacency(mat_friendship, create_using=nx.DiGraph)\n",
        "G_advice = nx.from_pandas_adjacency(mat_advice, create_using=nx.DiGraph)\n",
        "G_work = nx.from_pandas_adjacency(mat_work, create_using=nx.DiGraph)\n",
        "\n",
        "attributes = pd.read_table(\"https://www.dropbox.com/s/qz7fvfgx8lvjgpr/ELattr.dat?dl=1\", delim_whitespace=True, header=None, dtype='int') \n",
        "attributes=attributes.round().astype(int)\n",
        "attributes.columns = [\"id\", \"seniority\", \"gender\", \"office\", \"tenure\", \"age\", \"practice\", \"school\"]\n",
        "attributes.set_index('id',inplace=True)\n",
        "\n",
        "cleanup_nums = {\"seniority\":     {1: \"Partner\", 2: \"Associate\"},\n",
        "                \"gender\":     {1: \"Male\", 2: \"Female\"},\n",
        "                \"office\":     {1: \"Boston\", 2: \"Hartford\", 3:\"Providence\"},\n",
        "                \"practice\":     {1: \"Litigation\", 2: \"Corporate\"},\n",
        "                \"school\":     {1: \"Harvard, Yale\", 2: \"Ucon\", 3: \"Others\"}\n",
        "                } \n",
        "attributes.replace(cleanup_nums, inplace=True)\n",
        "\n",
        "attributes_dict=attributes.T.to_dict()"
      ],
      "execution_count": null,
      "outputs": []
    },
    {
      "cell_type": "code",
      "metadata": {
        "id": "Yg_1eKc_kiGL"
      },
      "source": [
        "print(nx.info(G_friendship))\n",
        "print(nx.info(G_advice))\n",
        "print(nx.info(G_work))"
      ],
      "execution_count": null,
      "outputs": []
    },
    {
      "cell_type": "markdown",
      "metadata": {
        "id": "UzuyUwRqeII2"
      },
      "source": [
        "Calcuating dimensional centralities"
      ]
    },
    {
      "cell_type": "code",
      "metadata": {
        "id": "q_l-2otneWy3"
      },
      "source": [
        "cent_degree_friendship = dict(G_friendship.in_degree)\n",
        "cent_degree_advice = dict(G_advice.in_degree)\n",
        "cent_degree_work = dict(G_work.in_degree)"
      ],
      "execution_count": null,
      "outputs": []
    },
    {
      "cell_type": "code",
      "metadata": {
        "id": "bboep1j4eavC"
      },
      "source": [
        "nx.set_node_attributes(G_friendship, cent_degree_friendship, 'cent_degree')\n",
        "nx.set_node_attributes(G_advice, cent_degree_advice, 'cent_degree')\n",
        "nx.set_node_attributes(G_work, cent_degree_work, 'cent_degree')"
      ],
      "execution_count": null,
      "outputs": []
    },
    {
      "cell_type": "code",
      "metadata": {
        "id": "MN9Pd8NWecpE"
      },
      "source": [
        "# Create and save a layout.\n",
        "G_layout = nx.layout.kamada_kawai_layout(G_work)"
      ],
      "execution_count": null,
      "outputs": []
    },
    {
      "cell_type": "code",
      "metadata": {
        "id": "APnxDTIqegIX"
      },
      "source": [
        "g_plot = hv.Graph.from_networkx(G_friendship, G_layout).opts(tools=['hover'],\n",
        "                                                                        directed=True,\n",
        "                                                                        edge_alpha=0.25,\n",
        "                                                                        node_size='cent_degree',\n",
        "                                                                        #node_color='seniority', cmap='Set1',\n",
        "                                                                        legend_position='right'\n",
        "                                                                        )\n",
        "\n",
        "show(hv.render(g_plot))"
      ],
      "execution_count": null,
      "outputs": []
    },
    {
      "cell_type": "code",
      "metadata": {
        "id": "ptA2yYY1eoqf"
      },
      "source": [
        "g_plot = hv.Graph.from_networkx(G_advice, G_layout).opts(tools=['hover'],\n",
        "                                                                        directed=True,\n",
        "                                                                        edge_alpha=0.25,\n",
        "                                                                        node_size='cent_degree',\n",
        "                                                                        #node_color='cent_degree', cmap='Set1',\n",
        "                                                                        legend_position='right')\n",
        "show(hv.render(g_plot))"
      ],
      "execution_count": null,
      "outputs": []
    },
    {
      "cell_type": "code",
      "metadata": {
        "id": "X2zdB1Ther8F"
      },
      "source": [
        "g_plot = hv.Graph.from_networkx(G_work, G_layout).opts(tools=['hover'],\n",
        "                                                                        directed=True,\n",
        "                                                                        edge_alpha=0.25,\n",
        "                                                                        node_size='cent_degree',\n",
        "                                                                        #node_color='seniority', cmap='Set1',\n",
        "                                                                        legend_position='right')\n",
        "show(hv.render(g_plot))"
      ],
      "execution_count": null,
      "outputs": []
    },
    {
      "cell_type": "markdown",
      "metadata": {
        "id": "sYYBIb_heyuJ"
      },
      "source": [
        "Calculating Assortiativity"
      ]
    },
    {
      "cell_type": "code",
      "metadata": {
        "id": "XPKOACTve8Ii"
      },
      "source": [
        "nx.attribute_assortativity_coefficient(G_friendship, 'seniority')"
      ],
      "execution_count": null,
      "outputs": []
    },
    {
      "cell_type": "code",
      "metadata": {
        "id": "REhDiUw1fPT1"
      },
      "source": [
        "nx.attribute_assortativity_coefficient(G_friendship, 'school')"
      ],
      "execution_count": null,
      "outputs": []
    },
    {
      "cell_type": "code",
      "metadata": {
        "id": "ZSVYaxmYfSUA"
      },
      "source": [
        "nx.attribute_assortativity_coefficient(G_friendship, 'office')"
      ],
      "execution_count": null,
      "outputs": []
    },
    {
      "cell_type": "markdown",
      "metadata": {
        "id": "1FDllcS2fJ2Q"
      },
      "source": [
        "Calculating Reciprocity"
      ]
    },
    {
      "cell_type": "markdown",
      "metadata": {
        "id": "pLYLtM1-fjYo"
      },
      "source": [
        "reciprocity for the Friendship network"
      ]
    },
    {
      "cell_type": "code",
      "metadata": {
        "id": "hG4P8YszfJmf"
      },
      "source": [
        "nx.overall_reciprocity(G_friendship)"
      ],
      "execution_count": null,
      "outputs": []
    },
    {
      "cell_type": "markdown",
      "metadata": {
        "id": "dYvNE4wjf2cK"
      },
      "source": [
        "reciprocity for the work network"
      ]
    },
    {
      "cell_type": "code",
      "metadata": {
        "id": "yX5rdwLvfeZB"
      },
      "source": [
        "nx.overall_reciprocity(G_work)"
      ],
      "execution_count": null,
      "outputs": []
    },
    {
      "cell_type": "markdown",
      "metadata": {
        "id": "DnBzW_iIf54Q"
      },
      "source": [
        "the number here is quite different, and the reciprocity facotr is very high. it is possible to speculate that this is that the work network is based on very concrete and objective connections between th eindividuals. Work can be seen as a dialogue, two way collaboration where reciprocity is high between individuals. "
      ]
    },
    {
      "cell_type": "code",
      "metadata": {
        "id": "_6e13Ol_fw3Z"
      },
      "source": [
        "nx.overall_reciprocity(G_advice)"
      ],
      "execution_count": null,
      "outputs": []
    },
    {
      "cell_type": "markdown",
      "metadata": {
        "id": "xQ3RxYnVgXlB"
      },
      "source": [
        "We can observe a very low reciprocity factor, this could be due to the fact that advice is ussualy conencted to some hierarchical relationships between individuals in a work place. this means many times is is one-directional, which would suggest low reciprocity between individual nodes. In other workds, this hierarchical relationship causes the edges of the network to be very low in reciprocity."
      ]
    },
    {
      "cell_type": "markdown",
      "metadata": {
        "id": "qDTCafAFvi5S"
      },
      "source": [
        "Community detection - identifying communities in Friendship and Advice networks"
      ]
    },
    {
      "cell_type": "code",
      "metadata": {
        "id": "afQWsZp-ytke"
      },
      "source": [
        "G_fr = nx.from_pandas_adjacency(mat_friendship, create_using=nx.Graph)\n",
        "G_adv = nx.from_pandas_adjacency(mat_advice, create_using=nx.Graph)"
      ],
      "execution_count": null,
      "outputs": []
    },
    {
      "cell_type": "code",
      "metadata": {
        "id": "4m0xZG1z2emi"
      },
      "source": [
        "print(nx.info(G_fr))\n",
        "print(nx.info(G_adv))"
      ],
      "execution_count": null,
      "outputs": []
    },
    {
      "cell_type": "code",
      "metadata": {
        "id": "EQ2PF9ocvran"
      },
      "source": [
        "com1 = community_louvain.best_partition(G_fr)\n",
        "com2 = community_louvain.best_partition(G_adv)"
      ],
      "execution_count": null,
      "outputs": []
    },
    {
      "cell_type": "code",
      "metadata": {
        "id": "6a1qCTnpzlTg"
      },
      "source": [
        "print(max(com1.values()))\n",
        "print(max(com2.values()))"
      ],
      "execution_count": null,
      "outputs": []
    },
    {
      "cell_type": "code",
      "metadata": {
        "id": "Kl_4fdG-4q1O"
      },
      "source": [
        "nx.set_node_attributes(G_fr, com1, 'community')\n",
        "\n",
        "g_plot = hv.Graph.from_networkx(G_fr, G_layout).opts(tools=['hover'],\n",
        "                                                  node_color='community', cmap=plt.cm.Set1,\n",
        "                                                  legend_position='right')\n",
        "\n",
        "show(hv.render(g_plot))"
      ],
      "execution_count": null,
      "outputs": []
    },
    {
      "cell_type": "code",
      "metadata": {
        "id": "W0XdIFEX70cP"
      },
      "source": [
        "nx.set_node_attributes(G_adv, com2, 'community')\n",
        "\n",
        "g_plot = hv.Graph.from_networkx(G_adv, G_layout).opts(tools=['hover'],\n",
        "                                                  node_color='community', cmap=plt.cm.Set1,\n",
        "                                                  legend_position='right')\n",
        "\n",
        "show(hv.render(g_plot))"
      ],
      "execution_count": null,
      "outputs": []
    },
    {
      "cell_type": "markdown",
      "metadata": {
        "id": "vIX2bh_5G4Eb"
      },
      "source": [
        "#**Portfolio excercise 5 - Natural Language Processing**\n",
        "Wednesday, 2021-11-24"
      ]
    },
    {
      "cell_type": "markdown",
      "metadata": {
        "id": "pPZxGdC-O9t4"
      },
      "source": [
        "Detecting fake Elon Tweets using surepvised ML"
      ]
    },
    {
      "cell_type": "code",
      "metadata": {
        "id": "ICyFDxtPaNvH"
      },
      "source": [
        "!pip -q install eli5 #installing a great package for explaining ML models"
      ],
      "execution_count": null,
      "outputs": []
    },
    {
      "cell_type": "code",
      "metadata": {
        "id": "Ff8YrLHwHfIm"
      },
      "source": [
        "import pandas as pd \n",
        "import numpy as np\n",
        "import eli5\n",
        "\n",
        "from sklearn.model_selection import train_test_split\n",
        "from sklearn.linear_model import LogisticRegression\n",
        "from sklearn.feature_extraction.text import CountVectorizer\n",
        "from sklearn.feature_extraction.text import TfidfVectorizer"
      ],
      "execution_count": null,
      "outputs": []
    },
    {
      "cell_type": "code",
      "metadata": {
        "id": "iyhPV7H7RNn-"
      },
      "source": [
        "elon = pd.read_csv('/content/Portfolio Data/find_elon.gz')\n",
        "elon = elon.rename(columns={'0': 'tweet', '1':'real'})\n",
        "elon.head(40)\n",
        "\n",
        "# boolean values meaning: 1 - True, 0 - False"
      ],
      "execution_count": null,
      "outputs": []
    },
    {
      "cell_type": "code",
      "metadata": {
        "id": "DYpXHOtjXQBA"
      },
      "source": [
        "X = elon['tweet'].values\n",
        "y = elon['real'].values"
      ],
      "execution_count": null,
      "outputs": []
    },
    {
      "cell_type": "code",
      "metadata": {
        "id": "LqhYWaZNXpC6"
      },
      "source": [
        "X_train, X_test, y_train, y_test = train_test_split(X, y, test_size=0.2, random_state=18)"
      ],
      "execution_count": null,
      "outputs": []
    },
    {
      "cell_type": "code",
      "metadata": {
        "id": "LNTaOl6sXs-X"
      },
      "source": [
        "vectorizer = CountVectorizer()\n",
        "X_train_vec_1 = vectorizer.fit_transform(X_train)"
      ],
      "execution_count": null,
      "outputs": []
    },
    {
      "cell_type": "code",
      "metadata": {
        "id": "y_k2FeL2YqjT"
      },
      "source": [
        "model = LogisticRegression(max_iter=3000)"
      ],
      "execution_count": null,
      "outputs": []
    },
    {
      "cell_type": "code",
      "metadata": {
        "id": "-XH0hZShYt9d"
      },
      "source": [
        "model.fit(X_train_vec_1, y_train)"
      ],
      "execution_count": null,
      "outputs": []
    },
    {
      "cell_type": "code",
      "metadata": {
        "id": "8Lcos9hgYwTf"
      },
      "source": [
        "X_test_vec_1 = vectorizer.transform(X_test)"
      ],
      "execution_count": null,
      "outputs": []
    },
    {
      "cell_type": "code",
      "metadata": {
        "id": "Bn5UACpiYypu"
      },
      "source": [
        "model.score(X_test_vec_1, y_test)"
      ],
      "execution_count": null,
      "outputs": []
    },
    {
      "cell_type": "code",
      "metadata": {
        "id": "nfrTc_ZbZa_s"
      },
      "source": [
        "y_pred = model.predict(X_test_vec_1)"
      ],
      "execution_count": null,
      "outputs": []
    },
    {
      "cell_type": "code",
      "metadata": {
        "id": "5kgo4hD3ZeS0"
      },
      "source": [
        "pd.crosstab(y_test, y_pred)"
      ],
      "execution_count": null,
      "outputs": []
    },
    {
      "cell_type": "markdown",
      "metadata": {
        "id": "v3cV6r1cevBO"
      },
      "source": [
        "TF - IDF"
      ]
    },
    {
      "cell_type": "code",
      "metadata": {
        "id": "HGNnP616Zv_V"
      },
      "source": [
        "vectorizer = TfidfVectorizer()\n",
        "X_train_vec_2 = vectorizer.fit_transform(X_train)\n",
        "\n",
        "model = LogisticRegression(max_iter=3000)"
      ],
      "execution_count": null,
      "outputs": []
    },
    {
      "cell_type": "code",
      "metadata": {
        "id": "U8f7pQoSZ15y"
      },
      "source": [
        "model.fit(X_train_vec_2, y_train)"
      ],
      "execution_count": null,
      "outputs": []
    },
    {
      "cell_type": "code",
      "metadata": {
        "id": "ONsbtYLUZ3wY"
      },
      "source": [
        "X_test_vec_2 = vectorizer.transform(X_test)"
      ],
      "execution_count": null,
      "outputs": []
    },
    {
      "cell_type": "code",
      "metadata": {
        "id": "RC77WLn_Z5Za"
      },
      "source": [
        "model.score(X_test_vec_2, y_test)"
      ],
      "execution_count": null,
      "outputs": []
    },
    {
      "cell_type": "code",
      "metadata": {
        "id": "ilTOOia7Z7y6"
      },
      "source": [
        "eli5.show_weights(model, feature_names=vectorizer.get_feature_names(), target_names=['real','fake'], top=10)"
      ],
      "execution_count": null,
      "outputs": []
    },
    {
      "cell_type": "code",
      "metadata": {
        "id": "D9jWaZvNZ_Mi"
      },
      "source": [
        "eli5.show_prediction(model, X_test[38], vec=vectorizer, target_names=['real','fake'])"
      ],
      "execution_count": null,
      "outputs": []
    },
    {
      "cell_type": "code",
      "metadata": {
        "id": "82vPMvv2rsBT"
      },
      "source": [
        "import spacy\n",
        "nlp = spacy.load(\"en\")"
      ],
      "execution_count": null,
      "outputs": []
    },
    {
      "cell_type": "code",
      "metadata": {
        "id": "Dpx5wwVmrwuG"
      },
      "source": [
        "doc = nlp(X_test[2])"
      ],
      "execution_count": null,
      "outputs": []
    },
    {
      "cell_type": "code",
      "metadata": {
        "id": "d-JXC7qbrzwD"
      },
      "source": [
        "[(tok.text, tok.pos_) for tok in doc]"
      ],
      "execution_count": null,
      "outputs": []
    }
  ]
}